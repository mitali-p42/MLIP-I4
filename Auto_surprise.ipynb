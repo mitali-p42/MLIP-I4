{
  "nbformat": 4,
  "nbformat_minor": 0,
  "metadata": {
    "colab": {
      "provenance": []
    },
    "kernelspec": {
      "name": "python3",
      "display_name": "Python 3"
    },
    "language_info": {
      "name": "python"
    }
  },
  "cells": [
    {
      "cell_type": "code",
      "source": [
        "# Installing the required libraries\n",
        "!pip install auto-surprise\n",
        "!pip install hyperopt==0.2.5\n",
        "!pip install scikit-surprise"
      ],
      "metadata": {
        "colab": {
          "base_uri": "https://localhost:8080/"
        },
        "id": "bq-GmjJ4d2tp",
        "outputId": "8e57a912-c834-4f44-b594-36d41fa65736"
      },
      "execution_count": 1,
      "outputs": [
        {
          "output_type": "stream",
          "name": "stdout",
          "text": [
            "Looking in indexes: https://pypi.org/simple, https://us-python.pkg.dev/colab-wheels/public/simple/\n",
            "Collecting auto-surprise\n",
            "  Downloading auto_surprise-0.1.8-py3-none-any.whl (19 kB)\n",
            "Collecting scikit-surprise\n",
            "  Downloading scikit-surprise-1.1.3.tar.gz (771 kB)\n",
            "\u001b[2K     \u001b[90m━━━━━━━━━━━━━━━━━━━━━━━━━━━━━━━━━━━━━━\u001b[0m \u001b[32m772.0/772.0 KB\u001b[0m \u001b[31m10.5 MB/s\u001b[0m eta \u001b[36m0:00:00\u001b[0m\n",
            "\u001b[?25h  Preparing metadata (setup.py) ... \u001b[?25l\u001b[?25hdone\n",
            "Requirement already satisfied: scikit-learn>=0.23.0 in /usr/local/lib/python3.9/dist-packages (from auto-surprise) (1.2.2)\n",
            "Requirement already satisfied: hyperopt>=0.2.5 in /usr/local/lib/python3.9/dist-packages (from auto-surprise) (0.2.7)\n",
            "Requirement already satisfied: numpy in /usr/local/lib/python3.9/dist-packages (from auto-surprise) (1.22.4)\n",
            "Requirement already satisfied: rich in /usr/local/lib/python3.9/dist-packages (from auto-surprise) (13.3.3)\n",
            "Requirement already satisfied: networkx>=2.2 in /usr/local/lib/python3.9/dist-packages (from hyperopt>=0.2.5->auto-surprise) (3.0)\n",
            "Requirement already satisfied: six in /usr/local/lib/python3.9/dist-packages (from hyperopt>=0.2.5->auto-surprise) (1.16.0)\n",
            "Requirement already satisfied: tqdm in /usr/local/lib/python3.9/dist-packages (from hyperopt>=0.2.5->auto-surprise) (4.65.0)\n",
            "Requirement already satisfied: cloudpickle in /usr/local/lib/python3.9/dist-packages (from hyperopt>=0.2.5->auto-surprise) (2.2.1)\n",
            "Requirement already satisfied: py4j in /usr/local/lib/python3.9/dist-packages (from hyperopt>=0.2.5->auto-surprise) (0.10.9.7)\n",
            "Requirement already satisfied: future in /usr/local/lib/python3.9/dist-packages (from hyperopt>=0.2.5->auto-surprise) (0.18.3)\n",
            "Requirement already satisfied: scipy in /usr/local/lib/python3.9/dist-packages (from hyperopt>=0.2.5->auto-surprise) (1.10.1)\n",
            "Requirement already satisfied: threadpoolctl>=2.0.0 in /usr/local/lib/python3.9/dist-packages (from scikit-learn>=0.23.0->auto-surprise) (3.1.0)\n",
            "Requirement already satisfied: joblib>=1.1.1 in /usr/local/lib/python3.9/dist-packages (from scikit-learn>=0.23.0->auto-surprise) (1.1.1)\n",
            "Requirement already satisfied: markdown-it-py<3.0.0,>=2.2.0 in /usr/local/lib/python3.9/dist-packages (from rich->auto-surprise) (2.2.0)\n",
            "Requirement already satisfied: pygments<3.0.0,>=2.13.0 in /usr/local/lib/python3.9/dist-packages (from rich->auto-surprise) (2.14.0)\n",
            "Requirement already satisfied: mdurl~=0.1 in /usr/local/lib/python3.9/dist-packages (from markdown-it-py<3.0.0,>=2.2.0->rich->auto-surprise) (0.1.2)\n",
            "Building wheels for collected packages: scikit-surprise\n",
            "  Building wheel for scikit-surprise (setup.py) ... \u001b[?25l\u001b[?25hdone\n",
            "  Created wheel for scikit-surprise: filename=scikit_surprise-1.1.3-cp39-cp39-linux_x86_64.whl size=3193655 sha256=7eac85f0edb9c8a665f7691e416594182c8de6f6b4ccc2c556d5798aa2f8dddd\n",
            "  Stored in directory: /root/.cache/pip/wheels/c6/3a/46/9b17b3512bdf283c6cb84f59929cdd5199d4e754d596d22784\n",
            "Successfully built scikit-surprise\n",
            "Installing collected packages: scikit-surprise, auto-surprise\n",
            "Successfully installed auto-surprise-0.1.8 scikit-surprise-1.1.3\n",
            "Looking in indexes: https://pypi.org/simple, https://us-python.pkg.dev/colab-wheels/public/simple/\n",
            "Collecting hyperopt==0.2.5\n",
            "  Downloading hyperopt-0.2.5-py2.py3-none-any.whl (965 kB)\n",
            "\u001b[2K     \u001b[90m━━━━━━━━━━━━━━━━━━━━━━━━━━━━━━━━━━━━━━\u001b[0m \u001b[32m966.0/966.0 KB\u001b[0m \u001b[31m28.6 MB/s\u001b[0m eta \u001b[36m0:00:00\u001b[0m\n",
            "\u001b[?25hRequirement already satisfied: numpy in /usr/local/lib/python3.9/dist-packages (from hyperopt==0.2.5) (1.22.4)\n",
            "Requirement already satisfied: tqdm in /usr/local/lib/python3.9/dist-packages (from hyperopt==0.2.5) (4.65.0)\n",
            "Requirement already satisfied: networkx>=2.2 in /usr/local/lib/python3.9/dist-packages (from hyperopt==0.2.5) (3.0)\n",
            "Requirement already satisfied: cloudpickle in /usr/local/lib/python3.9/dist-packages (from hyperopt==0.2.5) (2.2.1)\n",
            "Requirement already satisfied: future in /usr/local/lib/python3.9/dist-packages (from hyperopt==0.2.5) (0.18.3)\n",
            "Requirement already satisfied: scipy in /usr/local/lib/python3.9/dist-packages (from hyperopt==0.2.5) (1.10.1)\n",
            "Requirement already satisfied: six in /usr/local/lib/python3.9/dist-packages (from hyperopt==0.2.5) (1.16.0)\n",
            "Installing collected packages: hyperopt\n",
            "  Attempting uninstall: hyperopt\n",
            "    Found existing installation: hyperopt 0.2.7\n",
            "    Uninstalling hyperopt-0.2.7:\n",
            "      Successfully uninstalled hyperopt-0.2.7\n",
            "Successfully installed hyperopt-0.2.5\n",
            "Looking in indexes: https://pypi.org/simple, https://us-python.pkg.dev/colab-wheels/public/simple/\n",
            "Requirement already satisfied: scikit-surprise in /usr/local/lib/python3.9/dist-packages (1.1.3)\n",
            "Requirement already satisfied: numpy>=1.17.3 in /usr/local/lib/python3.9/dist-packages (from scikit-surprise) (1.22.4)\n",
            "Requirement already satisfied: joblib>=1.0.0 in /usr/local/lib/python3.9/dist-packages (from scikit-surprise) (1.1.1)\n",
            "Requirement already satisfied: scipy>=1.3.2 in /usr/local/lib/python3.9/dist-packages (from scikit-surprise) (1.10.1)\n"
          ]
        }
      ]
    },
    {
      "cell_type": "code",
      "source": [
        "!pip install numpy==1.21.0"
      ],
      "metadata": {
        "colab": {
          "base_uri": "https://localhost:8080/"
        },
        "id": "7yUKw5cMtVpr",
        "outputId": "d498f3be-9085-4fb0-daf0-2a624cd37706"
      },
      "execution_count": null,
      "outputs": [
        {
          "output_type": "stream",
          "name": "stdout",
          "text": [
            "Looking in indexes: https://pypi.org/simple, https://us-python.pkg.dev/colab-wheels/public/simple/\n",
            "Collecting numpy==1.21.0\n",
            "  Downloading numpy-1.21.0-cp39-cp39-manylinux_2_12_x86_64.manylinux2010_x86_64.whl (15.7 MB)\n",
            "\u001b[2K     \u001b[90m━━━━━━━━━━━━━━━━━━━━━━━━━━━━━━━━━━━━━━━━\u001b[0m \u001b[32m15.7/15.7 MB\u001b[0m \u001b[31m77.6 MB/s\u001b[0m eta \u001b[36m0:00:00\u001b[0m\n",
            "\u001b[?25hInstalling collected packages: numpy\n",
            "  Attempting uninstall: numpy\n",
            "    Found existing installation: numpy 1.21.6\n",
            "    Uninstalling numpy-1.21.6:\n",
            "      Successfully uninstalled numpy-1.21.6\n",
            "\u001b[31mERROR: pip's dependency resolver does not currently take into account all the packages that are installed. This behaviour is the source of the following dependency conflicts.\n",
            "tensorflow 2.12.0 requires numpy<1.24,>=1.22, but you have numpy 1.21.0 which is incompatible.\u001b[0m\u001b[31m\n",
            "\u001b[0mSuccessfully installed numpy-1.21.0\n"
          ]
        }
      ]
    },
    {
      "cell_type": "code",
      "execution_count": 1,
      "metadata": {
        "id": "JpMkGHdcdspS"
      },
      "outputs": [],
      "source": [
        "#Importing the required libraries\n",
        "import hyperopt\n",
        "from surprise import Reader, Dataset\n",
        "from auto_surprise.engine import Engine\n",
        "import pandas as pd\n",
        "import numpy as np"
      ]
    },
    {
      "cell_type": "code",
      "source": [
        "# Reading the data from the csv file.\n",
        "df = pd.read_csv(\"compact_data.csv\",index_col= \"Unnamed: 0\").sample(100)"
      ],
      "metadata": {
        "id": "oNazgSiqeKtJ"
      },
      "execution_count": 7,
      "outputs": []
    },
    {
      "cell_type": "code",
      "source": [
        "# Displaying the first 5 rows of the movie dataset.\n",
        "# Here user stands for user_id, movie stands for movie_id, and rate stands for the rating given by the user for the movie.\n",
        "df.head()"
      ],
      "metadata": {
        "colab": {
          "base_uri": "https://localhost:8080/",
          "height": 204
        },
        "id": "55GUk-Cum3MJ",
        "outputId": "1122ec9e-3228-4efc-ee14-34a8d0b367ab"
      },
      "execution_count": 8,
      "outputs": [
        {
          "output_type": "execute_result",
          "data": {
            "text/plain": [
              "          user  movie  rate\n",
              "572248  377638   1483     4\n",
              "441196  218506   5952     3\n",
              "908588  505394  20016     4\n",
              "387101  102167    213     4\n",
              "15851    11375    651     4"
            ],
            "text/html": [
              "\n",
              "  <div id=\"df-3c390847-8436-432d-830d-c60db2d5dd1b\">\n",
              "    <div class=\"colab-df-container\">\n",
              "      <div>\n",
              "<style scoped>\n",
              "    .dataframe tbody tr th:only-of-type {\n",
              "        vertical-align: middle;\n",
              "    }\n",
              "\n",
              "    .dataframe tbody tr th {\n",
              "        vertical-align: top;\n",
              "    }\n",
              "\n",
              "    .dataframe thead th {\n",
              "        text-align: right;\n",
              "    }\n",
              "</style>\n",
              "<table border=\"1\" class=\"dataframe\">\n",
              "  <thead>\n",
              "    <tr style=\"text-align: right;\">\n",
              "      <th></th>\n",
              "      <th>user</th>\n",
              "      <th>movie</th>\n",
              "      <th>rate</th>\n",
              "    </tr>\n",
              "  </thead>\n",
              "  <tbody>\n",
              "    <tr>\n",
              "      <th>572248</th>\n",
              "      <td>377638</td>\n",
              "      <td>1483</td>\n",
              "      <td>4</td>\n",
              "    </tr>\n",
              "    <tr>\n",
              "      <th>441196</th>\n",
              "      <td>218506</td>\n",
              "      <td>5952</td>\n",
              "      <td>3</td>\n",
              "    </tr>\n",
              "    <tr>\n",
              "      <th>908588</th>\n",
              "      <td>505394</td>\n",
              "      <td>20016</td>\n",
              "      <td>4</td>\n",
              "    </tr>\n",
              "    <tr>\n",
              "      <th>387101</th>\n",
              "      <td>102167</td>\n",
              "      <td>213</td>\n",
              "      <td>4</td>\n",
              "    </tr>\n",
              "    <tr>\n",
              "      <th>15851</th>\n",
              "      <td>11375</td>\n",
              "      <td>651</td>\n",
              "      <td>4</td>\n",
              "    </tr>\n",
              "  </tbody>\n",
              "</table>\n",
              "</div>\n",
              "      <button class=\"colab-df-convert\" onclick=\"convertToInteractive('df-3c390847-8436-432d-830d-c60db2d5dd1b')\"\n",
              "              title=\"Convert this dataframe to an interactive table.\"\n",
              "              style=\"display:none;\">\n",
              "        \n",
              "  <svg xmlns=\"http://www.w3.org/2000/svg\" height=\"24px\"viewBox=\"0 0 24 24\"\n",
              "       width=\"24px\">\n",
              "    <path d=\"M0 0h24v24H0V0z\" fill=\"none\"/>\n",
              "    <path d=\"M18.56 5.44l.94 2.06.94-2.06 2.06-.94-2.06-.94-.94-2.06-.94 2.06-2.06.94zm-11 1L8.5 8.5l.94-2.06 2.06-.94-2.06-.94L8.5 2.5l-.94 2.06-2.06.94zm10 10l.94 2.06.94-2.06 2.06-.94-2.06-.94-.94-2.06-.94 2.06-2.06.94z\"/><path d=\"M17.41 7.96l-1.37-1.37c-.4-.4-.92-.59-1.43-.59-.52 0-1.04.2-1.43.59L10.3 9.45l-7.72 7.72c-.78.78-.78 2.05 0 2.83L4 21.41c.39.39.9.59 1.41.59.51 0 1.02-.2 1.41-.59l7.78-7.78 2.81-2.81c.8-.78.8-2.07 0-2.86zM5.41 20L4 18.59l7.72-7.72 1.47 1.35L5.41 20z\"/>\n",
              "  </svg>\n",
              "      </button>\n",
              "      \n",
              "  <style>\n",
              "    .colab-df-container {\n",
              "      display:flex;\n",
              "      flex-wrap:wrap;\n",
              "      gap: 12px;\n",
              "    }\n",
              "\n",
              "    .colab-df-convert {\n",
              "      background-color: #E8F0FE;\n",
              "      border: none;\n",
              "      border-radius: 50%;\n",
              "      cursor: pointer;\n",
              "      display: none;\n",
              "      fill: #1967D2;\n",
              "      height: 32px;\n",
              "      padding: 0 0 0 0;\n",
              "      width: 32px;\n",
              "    }\n",
              "\n",
              "    .colab-df-convert:hover {\n",
              "      background-color: #E2EBFA;\n",
              "      box-shadow: 0px 1px 2px rgba(60, 64, 67, 0.3), 0px 1px 3px 1px rgba(60, 64, 67, 0.15);\n",
              "      fill: #174EA6;\n",
              "    }\n",
              "\n",
              "    [theme=dark] .colab-df-convert {\n",
              "      background-color: #3B4455;\n",
              "      fill: #D2E3FC;\n",
              "    }\n",
              "\n",
              "    [theme=dark] .colab-df-convert:hover {\n",
              "      background-color: #434B5C;\n",
              "      box-shadow: 0px 1px 3px 1px rgba(0, 0, 0, 0.15);\n",
              "      filter: drop-shadow(0px 1px 2px rgba(0, 0, 0, 0.3));\n",
              "      fill: #FFFFFF;\n",
              "    }\n",
              "  </style>\n",
              "\n",
              "      <script>\n",
              "        const buttonEl =\n",
              "          document.querySelector('#df-3c390847-8436-432d-830d-c60db2d5dd1b button.colab-df-convert');\n",
              "        buttonEl.style.display =\n",
              "          google.colab.kernel.accessAllowed ? 'block' : 'none';\n",
              "\n",
              "        async function convertToInteractive(key) {\n",
              "          const element = document.querySelector('#df-3c390847-8436-432d-830d-c60db2d5dd1b');\n",
              "          const dataTable =\n",
              "            await google.colab.kernel.invokeFunction('convertToInteractive',\n",
              "                                                     [key], {});\n",
              "          if (!dataTable) return;\n",
              "\n",
              "          const docLinkHtml = 'Like what you see? Visit the ' +\n",
              "            '<a target=\"_blank\" href=https://colab.research.google.com/notebooks/data_table.ipynb>data table notebook</a>'\n",
              "            + ' to learn more about interactive tables.';\n",
              "          element.innerHTML = '';\n",
              "          dataTable['output_type'] = 'display_data';\n",
              "          await google.colab.output.renderOutput(dataTable, element);\n",
              "          const docLink = document.createElement('div');\n",
              "          docLink.innerHTML = docLinkHtml;\n",
              "          element.appendChild(docLink);\n",
              "        }\n",
              "      </script>\n",
              "    </div>\n",
              "  </div>\n",
              "  "
            ]
          },
          "metadata": {},
          "execution_count": 8
        }
      ]
    },
    {
      "cell_type": "code",
      "source": [
        "# Building the dataframe for the models using the pandas dataframe\n",
        "reader = Reader(rating_scale=(1,5))\n",
        "data = Dataset.load_from_df(df[['user', 'movie', 'rate']], reader)"
      ],
      "metadata": {
        "id": "vWO4aizYo7vx"
      },
      "execution_count": 9,
      "outputs": []
    },
    {
      "cell_type": "code",
      "source": [
        "# Intitializing the auto surprise engine with the possible algorithms.\n",
        "engine = Engine(verbose=True, algorithms=[\"svd\", \"svdpp\", \"nmf\", \"knn_basic\", \"knn_baseline\", \"knn_with_means\", \"knn_with_z_score\", \"co_clustering\", \"slope_one\", \"baseline_only\"])"
      ],
      "metadata": {
        "id": "bRM-EGoOnEoe"
      },
      "execution_count": 10,
      "outputs": []
    },
    {
      "cell_type": "code",
      "source": [
        "# Starting the trainer\n",
        "best_algo, best_params, best_score, tasks = engine.train(\n",
        "    data=data,\n",
        "    target_metric='test_rmse',\n",
        "    cpu_time_limit=10,\n",
        "    max_evals=3,\n",
        "    hpo_algo=hyperopt.tpe.suggest\n",
        ")"
      ],
      "metadata": {
        "id": "4AxuDQLFoK8d",
        "colab": {
          "base_uri": "https://localhost:8080/",
          "height": 1000
        },
        "outputId": "c83c4576-5383-4b7e-b69b-656ef116193a"
      },
      "execution_count": 11,
      "outputs": [
        {
          "output_type": "display_data",
          "data": {
            "text/plain": [
              "auto_surprise \u001b[1;36m0.1\u001b[0m.\u001b[1;36m8\u001b[0m\n"
            ],
            "text/html": [
              "<pre style=\"white-space:pre;overflow-x:auto;line-height:normal;font-family:Menlo,'DejaVu Sans Mono',consolas,'Courier New',monospace\">auto_surprise <span style=\"color: #008080; text-decoration-color: #008080; font-weight: bold\">0.1</span>.<span style=\"color: #008080; text-decoration-color: #008080; font-weight: bold\">8</span>\n",
              "</pre>\n"
            ]
          },
          "metadata": {}
        },
        {
          "output_type": "display_data",
          "data": {
            "text/plain": [
              "Available CPUs: \u001b[1;36m2\u001b[0m\n"
            ],
            "text/html": [
              "<pre style=\"white-space:pre;overflow-x:auto;line-height:normal;font-family:Menlo,'DejaVu Sans Mono',consolas,'Courier New',monospace\">Available CPUs: <span style=\"color: #008080; text-decoration-color: #008080; font-weight: bold\">2</span>\n",
              "</pre>\n"
            ]
          },
          "metadata": {}
        },
        {
          "output_type": "stream",
          "name": "stderr",
          "text": [
            "INFO:auto_surprise.context.result_logging_manager_normal_predictor:Started hyperarameter optimization\n",
            "INFO:auto_surprise.context.result_logging_manager_normal_predictor:Execution time: 0:00:00 Loss: 0.878766712607525 Hyperparameters: None\n",
            "INFO:auto_surprise.context.result_logging_manager_normal_predictor:Done!\n"
          ]
        },
        {
          "output_type": "stream",
          "name": "stdout",
          "text": [
            "Evaluating RMSE, MAE, MSE of algorithm NormalPredictor on 5 split(s).\n",
            "\n",
            "                  Fold 1  Fold 2  Fold 3  Fold 4  Fold 5  Mean    Std     \n",
            "RMSE (testset)    0.9554  1.0570  0.7488  0.7733  0.8593  0.8788  0.1149  \n",
            "MAE (testset)     0.7760  0.7933  0.5788  0.6319  0.7304  0.7021  0.0833  \n",
            "MSE (testset)     0.9128  1.1173  0.5607  0.5981  0.7384  0.7854  0.2070  \n",
            "Fit time          0.00    0.00    0.00    0.00    0.00    0.00    0.00    \n",
            "Test time         0.00    0.00    0.00    0.00    0.00    0.00    0.00    \n"
          ]
        },
        {
          "output_type": "display_data",
          "data": {
            "text/plain": [
              "Baseline loss: \u001b[1;36m0.878766712607525\u001b[0m\n"
            ],
            "text/html": [
              "<pre style=\"white-space:pre;overflow-x:auto;line-height:normal;font-family:Menlo,'DejaVu Sans Mono',consolas,'Courier New',monospace\">Baseline loss: <span style=\"color: #008080; text-decoration-color: #008080; font-weight: bold\">0.878766712607525</span>\n",
              "</pre>\n"
            ]
          },
          "metadata": {}
        },
        {
          "output_type": "stream",
          "name": "stdout",
          "text": [
            "Starting process with svd algorithm\n",
            "Starting process with svdpp algorithm\n",
            "Starting process with nmf algorithm\n"
          ]
        },
        {
          "output_type": "stream",
          "name": "stderr",
          "text": [
            "INFO:auto_surprise.context.result_logging_manager_svd:Started hyperarameter optimization\n"
          ]
        },
        {
          "output_type": "stream",
          "name": "stdout",
          "text": [
            "Starting process with knn_basic algorithm\n"
          ]
        },
        {
          "output_type": "stream",
          "name": "stderr",
          "text": [
            "INFO:auto_surprise.context.result_logging_manager_svdpp:Started hyperarameter optimization\n"
          ]
        },
        {
          "output_type": "stream",
          "name": "stdout",
          "text": [
            "Starting process with knn_baseline algorithm\n"
          ]
        },
        {
          "output_type": "stream",
          "name": "stderr",
          "text": [
            "INFO:auto_surprise.context.result_logging_manager_nmf:Started hyperarameter optimization\n"
          ]
        },
        {
          "output_type": "stream",
          "name": "stdout",
          "text": [
            "  0%|          | 0/3 [00:00<?, ?trial/s, best loss=?]Starting process with knn_with_means algorithm\n",
            "  0%|          | 0/3 [00:00<?, ?trial/s, best loss=?]"
          ]
        },
        {
          "output_type": "stream",
          "name": "stderr",
          "text": [
            "INFO:auto_surprise.context.result_logging_manager_knn_basic:Started hyperarameter optimization\n"
          ]
        },
        {
          "output_type": "stream",
          "name": "stdout",
          "text": [
            "Starting process with knn_with_z_score algorithm\n",
            "  0%|          | 0/3 [00:00<?, ?trial/s, best loss=?]"
          ]
        },
        {
          "output_type": "stream",
          "name": "stderr",
          "text": [
            "INFO:auto_surprise.context.result_logging_manager_knn_baseline:Started hyperarameter optimization\n"
          ]
        },
        {
          "output_type": "stream",
          "name": "stdout",
          "text": [
            "\r  0%|          | 0/3 [00:00<?, ?trial/s, best loss=?]"
          ]
        },
        {
          "output_type": "stream",
          "name": "stderr",
          "text": [
            "INFO:auto_surprise.context.result_logging_manager_knn_with_means:Started hyperarameter optimization\n"
          ]
        },
        {
          "output_type": "stream",
          "name": "stdout",
          "text": [
            "Starting process with co_clustering algorithm\n",
            "                                                     "
          ]
        },
        {
          "output_type": "stream",
          "name": "stderr",
          "text": [
            "INFO:auto_surprise.context.result_logging_manager_knn_with_z_score:Started hyperarameter optimization\n"
          ]
        },
        {
          "output_type": "stream",
          "name": "stdout",
          "text": [
            "  0%|          | 0/3 [00:00<?, ?trial/s, best loss=?]Starting process with slope_one algorithm\n",
            "  0%|          | 0/3 [00:00<?, ?trial/s, best loss=?]"
          ]
        },
        {
          "output_type": "stream",
          "name": "stderr",
          "text": [
            "INFO:auto_surprise.context.result_logging_manager_co_clustering:Started hyperarameter optimization\n"
          ]
        },
        {
          "output_type": "stream",
          "name": "stdout",
          "text": [
            "Starting process with baseline_only algorithm\n"
          ]
        },
        {
          "output_type": "stream",
          "name": "stderr",
          "text": [
            "INFO:auto_surprise.context.result_logging_manager_slope_one:Started hyperarameter optimization\n"
          ]
        },
        {
          "output_type": "stream",
          "name": "stdout",
          "text": [
            "                                                     Evaluating RMSE, MAE, MSE of algorithm SVDpp on 5 split(s).Estimating biases using\n",
            "\n",
            "\n",
            "  0%|          | 0/3 [00:00<?, ?trial/s, best loss=?]\n",
            "  0%|          | 0/3 [00:00<?, ?trial/s, best loss=?]"
          ]
        },
        {
          "output_type": "stream",
          "name": "stderr",
          "text": [
            "INFO:auto_surprise.context.result_logging_manager_baseline_only:Started hyperarameter optimization\n"
          ]
        },
        {
          "output_type": "stream",
          "name": "stdout",
          "text": [
            "  0%|          | 0/3 [00:00<?, ?trial/s, best loss=?]\n",
            "\n",
            "                                                                       Fold 1  Fold 2  Fold 3  Fold 4  Fold 5  Mean    Std     \n",
            "RMSE (testset)    0.7433  0.8072  0.8284  0.5713  0.6520  0.7205  0.0966  \n",
            "MAE (testset)     0.5900  0.6704  0.6383  0.3859  0.4564  0.5482  0.1091  \n",
            "MSE (testset)     0.5525  0.6515  0.6863  0.3264  0.4251  0.5284  0.1358  \n",
            "Fit time          0.06    0.05    0.02    0.05    0.02    0.04    0.01    \n",
            "  0%|          | 0/3 [00:00<?, ?trial/s, best loss=?]\n",
            "\n",
            "\n",
            "                                                     \n",
            "  0%|          | 0/3 [00:00<?, ?trial/s, best loss=?]\n",
            "  0%|          | 0/3 [00:00<?, ?trial/s, best loss=?]                  Fold 1  Fold 2  Fold 3  Fold 4  Fold 5  Mean    Std     \n",
            "RMSE (testset)    0.7433  0.8078  0.8307  0.5680  0.6520  0.7204  0.0982  \n",
            "MAE (testset)     0.5900  0.6750  0.6400  0.3750  0.4575  0.5475  0.1136  \n",
            "MSE (testset)     0.5525  0.6525  0.6900  0.3227  0.4252  0.5286  0.1379  \n",
            "Fit time          0.01    0.02    0.01    0.01    0.01    0.01    0.00    \n",
            "                                                     "
          ]
        },
        {
          "output_type": "stream",
          "name": "stderr",
          "text": [
            "INFO:auto_surprise.context.result_logging_manager_svdpp:Execution time: 0:00:00 Loss: 0.7204504682034064 Hyperparameters: {'lr_bi': 0.038476239439738776, 'lr_bu': 0.00014183566545964273, 'lr_pu': 0.010435044033368207, 'lr_qi': 0.007044738255387695, 'lr_yj': 0.034786059565752175, 'n_epochs': 134, 'n_factors': 125, 'reg_bi': 0.08042617991816609, 'reg_bu': 0.002450880003796123, 'reg_pu': 0.0006471016569757588, 'reg_qi': 0.0011808192481928428, 'reg_yj': 0.00024647949986902505}\n"
          ]
        },
        {
          "output_type": "stream",
          "name": "stdout",
          "text": [
            "\n",
            " 33%|███▎      | 1/3 [00:00<00:00,  2.36trial/s, best loss: 0.7204504682034064]"
          ]
        },
        {
          "output_type": "stream",
          "name": "stderr",
          "text": [
            "INFO:auto_surprise.context.result_logging_manager_slope_one:Execution time: 0:00:00 Loss: 0.7203618001780491 Hyperparameters: None\n"
          ]
        },
        {
          "output_type": "stream",
          "name": "stdout",
          "text": [
            "\n",
            "\n",
            "                                                     \n",
            "\n"
          ]
        },
        {
          "output_type": "stream",
          "name": "stderr",
          "text": [
            "INFO:auto_surprise.context.result_logging_manager_slope_one:Done!\n"
          ]
        },
        {
          "output_type": "stream",
          "name": "stdout",
          "text": [
            "                                                     \n",
            "                  Fold 1  Fold 2  Fold 3  Fold 4  Fold 5  Mean    Std     \n",
            "RMSE (testset)    0.7433  0.8076  0.8281  0.5679  0.6520  0.7198  0.0976  \n",
            "MAE (testset)     0.5900  0.6743  0.6375  0.3736  0.4569  0.5464  0.1135  \n",
            "MSE (testset)     0.5525  0.6523  0.6858  0.3225  0.4251  0.5276  0.1369  \n",
            "Fit time          0.08    0.10    0.03    0.09    0.04    0.07    0.03    \n",
            "Test time         0.00    0.00    0.00    0.00    0.00    0.00    0.00    Done computing similarity matrix.Computing the cosine similarity matrix...\n",
            "\n",
            "Done computing similarity matrix.\n",
            "\n",
            "\n",
            "                                                     "
          ]
        },
        {
          "output_type": "stream",
          "name": "stderr",
          "text": [
            "INFO:auto_surprise.context.result_logging_manager_svd:Execution time: 0:00:00 Loss: 0.7198006164467119 Hyperparameters: {'lr_bi': 0.010435044033368207, 'lr_bu': 0.007044738255387695, 'lr_pu': 0.034786059565752175, 'lr_qi': 0.010243988668740735, 'n_epochs': 125, 'n_factors': 194, 'reg_bi': 0.002450880003796123, 'reg_bu': 0.0006471016569757588, 'reg_pu': 0.0011808192481928428, 'reg_qi': 0.00024647949986902505}\n"
          ]
        },
        {
          "output_type": "stream",
          "name": "stdout",
          "text": [
            "                                                     \n",
            "  0%|          | 0/3 [00:00<?, ?trial/s, best loss=?]Computing the cosine similarity matrix...\n",
            "\n",
            "  0%|          | 0/3 [00:00<?, ?trial/s, best loss=?]\n",
            "                                                     \n",
            "\n",
            "                                                     Done computing similarity matrix.\n",
            "\n",
            "  0%|          | 0/3 [00:00<?, ?trial/s, best loss=?]Done computing similarity matrix.\n",
            "                                                     \n",
            "\n",
            "                                                     \n",
            "\n",
            "  0%|          | 0/3 [00:00<?, ?trial/s, best loss=?]\n",
            "\n",
            "\n",
            "                                                                               \n",
            "\n",
            "\n",
            "\n",
            "\n",
            "                                                                               \n",
            "\n",
            "\n",
            "                  Fold 1  Fold 2  Fold 3  Fold 4  Fold 5  Mean    Std     \n",
            "RMSE (testset)    0.8220  0.8216  0.6897  0.5928  0.6241  0.7100  0.0964  \n",
            "MAE (testset)     0.6225  0.7015  0.5232  0.4175  0.4472  0.5424  0.1065  \n",
            "MSE (testset)     0.6756  0.6750  0.4757  0.3514  0.3895  0.5135  0.1382  \n",
            "Fit time          0.04    0.03    0.03    0.05    0.04    0.04    0.01    \n",
            "  0%|          | 0/3 [00:00<?, ?trial/s, best loss=?]\n",
            "                                                     \n",
            "\n",
            "  0%|          | 0/3 [00:00<?, ?trial/s, best loss=?]sgd...\n"
          ]
        },
        {
          "output_type": "stream",
          "name": "stderr",
          "text": [
            "INFO:auto_surprise.context.result_logging_manager_svd:Execution time: 0:00:01 Loss: 0.7100424406414808 Hyperparameters: {'lr_bi': 0.0042178867475883165, 'lr_bu': 0.00045720386454149524, 'lr_pu': 0.01544828065316396, 'lr_qi': 0.00029308721158844445, 'n_epochs': 113, 'n_factors': 78, 'reg_bi': 0.008457901083055667, 'reg_bu': 0.004687329742290523, 'reg_pu': 0.0026026135390510045, 'reg_qi': 0.0015595439072885087}\n"
          ]
        },
        {
          "output_type": "stream",
          "name": "stdout",
          "text": [
            "                                                     \n",
            "                                                     \n",
            "                                                     \n",
            "  0%|          | 0/3 [00:00<?, ?trial/s, best loss=?]Estimating biases using\n",
            "                                                     \n",
            "  0%|          | 0/3 [00:00<?, ?trial/s, best loss=?]\n",
            "\n",
            "                                                     \n",
            "\n",
            "  0%|          | 0/3 [00:00<?, ?trial/s, best loss=?]\n",
            "                  Fold 1  Fold 2  Fold 3  Fold 4  Fold 5  Mean    Std     \n",
            "RMSE (testset)    0.7433  0.8078  0.8307  0.5680  0.6520  0.7204  0.0982  \n",
            "MAE (testset)     0.5900  0.6750  0.6400  0.3750  0.4575  0.5475  0.1136  \n",
            "MSE (testset)     0.5525  0.6525  0.6900  0.3227  0.4252  0.5286  0.1379  \n",
            "Fit time          0.25    0.20    0.17    0.14    0.15    0.18    0.04    \n",
            "  0%|          | 0/3 [00:00<?, ?trial/s, best loss=?]\n",
            "\n",
            "\n",
            "  0%|          | 0/3 [00:00<?, ?trial/s, best loss=?]                  Fold 1  Fold 2  Fold 3  Fold 4  Fold 5  Mean    Std     \n",
            "RMSE (testset)    0.6129  0.7633  0.7566  0.7946  0.6726  0.7200  0.0671  \n",
            "MAE (testset)     0.4300  0.6188  0.6050  0.5850  0.5049  0.5487  0.0713  \n",
            "MSE (testset)     0.3756  0.5827  0.5725  0.6314  0.4525  0.5229  0.0943  \n",
            "Fit time          0.00    0.00    0.02    0.01    0.00    0.00    0.01    \n",
            "  0%|          | 0/3 [00:00<?, ?trial/s, best loss=?]\n",
            "  0%|          | 0/3 [00:01<?, ?trial/s, best loss=?]\n",
            "\n"
          ]
        },
        {
          "output_type": "stream",
          "name": "stderr",
          "text": [
            "INFO:auto_surprise.context.result_logging_manager_knn_basic:Execution time: 0:00:01 Loss: 0.7203618001780491 Hyperparameters: {'k': 484, 'min_k': 24, 'sim_options': {'name': 'cosine', 'user_based': True, 'min_support': 28}}\n"
          ]
        },
        {
          "output_type": "stream",
          "name": "stdout",
          "text": [
            "                  Fold 1  Fold 2  Fold 3  Fold 4  Fold 5  Mean    Std     \n",
            "RMSE (testset)    0.7433  0.8078  0.8307  0.5680  0.6520  0.7204  0.0982  \n",
            "MAE (testset)     0.5900  0.6750  0.6400  0.3750  0.4575  0.5475  0.1136  \n",
            "MSE (testset)     0.5525  0.6525  0.6900  0.3227  0.4252  0.5286  0.1379  \n",
            "Fit time          0.25    0.16    0.17    0.14    0.15    0.17    0.04    \n",
            " 33%|███▎      | 1/3 [00:01<00:02,  1.11s/trial, best loss: 0.7203618001780491]Estimating biases using"
          ]
        },
        {
          "output_type": "stream",
          "name": "stderr",
          "text": [
            "INFO:auto_surprise.context.result_logging_manager_svd:Execution time: 0:00:01 Loss: 0.7200174230823491 Hyperparameters: {'lr_bi': 0.00014069518942275944, 'lr_bu': 0.0043521201783622, 'lr_pu': 0.02408625281063976, 'lr_qi': 0.0016914215705808786, 'n_epochs': 15, 'n_factors': 5, 'reg_bi': 0.012144512803347508, 'reg_bu': 0.0214115530815416, 'reg_pu': 0.009678009932884497, 'reg_qi': 0.03529369379086829}\n"
          ]
        },
        {
          "output_type": "stream",
          "name": "stdout",
          "text": [
            "                  Fold 1  Fold 2  Fold 3  Fold 4  Fold 5  Mean    Std     \n",
            "RMSE (testset)    0.7433  0.8078  0.8307  0.5680  0.6520  0.7204  0.0982  \n",
            "MAE (testset)     0.5900  0.6750  0.6400  0.3750  0.4575  0.5475  0.1136  \n",
            "MSE (testset)     0.5525  0.6525  0.6900  0.3227  0.4252  0.5286  0.1379  \n",
            "Fit time          0.19    0.19    0.17    0.14    0.20    0.18    0.02    \n",
            "Test time         0.00    0.00    0.00    0.00    0.00    0.00    0.00    \n",
            "                                                                               \n",
            "\n",
            "100%|██████████| 3/3 [00:01<00:00,  2.71trial/s, best loss: 0.7100424406414808]                  Fold 1  Fold 2  Fold 3  Fold 4  Fold 5  Mean    Std     \n",
            "RMSE (testset)    0.7433  0.4187  0.7218  0.8262  0.8220  0.7064  0.1497  \n",
            "MAE (testset)     0.5900  0.2417  0.5613  0.7050  0.6226  0.5441  0.1587  \n",
            "MSE (testset)     0.5525  0.1753  0.5211  0.6827  0.6756  0.5214  0.1847  \n",
            "Fit time          0.13    0.12    0.13    0.13    0.13    0.13    0.00    \n",
            "  0%|          | 0/3 [00:01<?, ?trial/s, best loss=?]\n",
            "                                                     \n"
          ]
        },
        {
          "output_type": "stream",
          "name": "stderr",
          "text": [
            "INFO:auto_surprise.context.result_logging_manager_knn_with_z_score:Execution time: 0:00:01 Loss: 0.7203618001780491 Hyperparameters: {'k': 484, 'min_k': 24, 'sim_options': {'name': 'cosine', 'user_based': True, 'min_support': 28}}\n",
            "INFO:auto_surprise.context.result_logging_manager_knn_with_means:Execution time: 0:00:01 Loss: 0.7203618001780491 Hyperparameters: {'k': 484, 'min_k': 24, 'sim_options': {'name': 'cosine', 'user_based': True, 'min_support': 28}}\n"
          ]
        },
        {
          "output_type": "stream",
          "name": "stdout",
          "text": [
            "\r 33%|███▎      | 1/3 [00:01<00:00,  2.36trial/s, best loss: 0.7204504682034064]\n",
            "\n",
            " 33%|███▎      | 1/3 [00:01<00:02,  1.06s/trial, best loss: 0.7203618001780491]"
          ]
        },
        {
          "output_type": "stream",
          "name": "stderr",
          "text": [
            "INFO:auto_surprise.context.result_logging_manager_svdpp:Execution time: 0:00:01 Loss: 0.7064088225076045 Hyperparameters: {'lr_bi': 0.008773887533329429, 'lr_bu': 0.00036064764947939926, 'lr_pu': 0.00015964337232868072, 'lr_qi': 0.06528573358801112, 'lr_yj': 0.002101657138207708, 'n_epochs': 105, 'n_factors': 116, 'reg_bi': 0.0004194558860427127, 'reg_bu': 0.01008406919535432, 'reg_pu': 0.00014195664816132758, 'reg_qi': 0.009895310350766537, 'reg_yj': 0.011630071015933642}\n"
          ]
        },
        {
          "output_type": "stream",
          "name": "stdout",
          "text": [
            " 33%|███▎      | 1/3 [00:01<00:02,  1.11s/trial, best loss: 0.7203618001780491]"
          ]
        },
        {
          "output_type": "stream",
          "name": "stderr",
          "text": [
            "INFO:auto_surprise.context.result_logging_manager_svd:Done!\n"
          ]
        },
        {
          "output_type": "stream",
          "name": "stdout",
          "text": [
            "                                                     \n",
            "                                                     als...als...\n",
            "\n",
            "\n",
            " 33%|███▎      | 1/3 [00:01<00:02,  1.06s/trial, best loss: 0.7203618001780491]\n",
            "\n",
            "\n",
            "\n",
            "\n",
            "als...                  Fold 1  Fold 2  Fold 3  Fold 4  Fold 5  Mean    Std     \n",
            "RMSE (testset)    0.7433  0.8077  0.8304  0.5679  0.6520  0.7203  0.0982  \n",
            "MAE (testset)     0.5900  0.6748  0.6396  0.3735  0.4574  0.5471  0.1139  \n",
            "MSE (testset)     0.5525  0.6524  0.6896  0.3225  0.4252  0.5285  0.1379  \n",
            "Fit time          0.26    0.16    0.19    0.13    0.17    0.18    0.04    \n",
            " 33%|███▎      | 1/3 [00:01<00:02,  1.06s/trial, best loss: 0.7203618001780491]\n",
            "\n",
            "                                                                               "
          ]
        },
        {
          "output_type": "stream",
          "name": "stderr",
          "text": [
            "INFO:auto_surprise.context.result_logging_manager_baseline_only:Execution time: 0:00:01 Loss: 0.7202864428752516 Hyperparameters: {'bsl_options': {'learning_rate': 0.0014053407480868008, 'method': 'sgd', 'reg': 0.0025012051376475915}}\n"
          ]
        },
        {
          "output_type": "stream",
          "name": "stdout",
          "text": [
            "\n",
            "\n",
            "\n",
            "                                                                               \n",
            " 33%|███▎      | 1/3 [00:01<00:02,  1.06s/trial, best loss: 0.7203618001780491]Done computing similarity matrix.Estimating biases using\n",
            "                                                                               \n",
            "\n",
            " 67%|██████▋   | 2/3 [00:01<00:00,  1.45trial/s, best loss: 0.7064088225076045]\n",
            "\n",
            "\n",
            "                  Fold 1  Fold 2  Fold 3  Fold 4  Fold 5  Mean    Std     \n",
            "RMSE (testset)    0.8262  0.6715  0.6447  0.7229  0.7230  0.7177  0.0621  \n",
            "MAE (testset)     0.7050  0.5028  0.4750  0.4750  0.5627  0.5441  0.0866  \n",
            "MSE (testset)     0.6827  0.4509  0.4156  0.5227  0.5227  0.5189  0.0918  \n",
            "Fit time          0.02    0.03    0.03    0.03    0.02    0.02    0.00    \n",
            "                                                                               \n",
            " 33%|███▎      | 1/3 [00:01<00:02,  1.11s/trial, best loss: 0.7203618001780491]sgd...\n",
            "\n",
            "\n",
            " 67%|██████▋   | 2/3 [00:01<00:00,  1.45trial/s, best loss: 0.7064088225076045]\n"
          ]
        },
        {
          "output_type": "stream",
          "name": "stderr",
          "text": [
            "INFO:auto_surprise.context.result_logging_manager_svdpp:Execution time: 0:00:01 Loss: 0.7176612527446983 Hyperparameters: {'lr_bi': 0.08806061006549627, 'lr_bu': 0.004219884691734867, 'lr_pu': 0.0005123142061577501, 'lr_qi': 0.00012749191958177474, 'lr_yj': 0.025199177292802865, 'n_epochs': 5, 'n_factors': 196, 'reg_bi': 0.03687711971514776, 'reg_bu': 0.01144658454005037, 'reg_pu': 0.0010303175691746978, 'reg_qi': 0.0007953789023107846, 'reg_yj': 0.001050816941115687}\n"
          ]
        },
        {
          "output_type": "stream",
          "name": "stdout",
          "text": [
            "                                                                               Computing the pearson_baseline similarity matrix...Computing the msd similarity matrix...\n",
            "100%|██████████| 3/3 [00:01<00:00,  1.80trial/s, best loss: 0.7064088225076045]\n",
            " 33%|███▎      | 1/3 [00:01<00:02,  1.06s/trial, best loss: 0.7203618001780491]\n",
            "Estimating biases using\n",
            "                                                                               \n",
            "                                                                               "
          ]
        },
        {
          "output_type": "stream",
          "name": "stderr",
          "text": [
            "INFO:auto_surprise.context.result_logging_manager_svdpp:Done!\n"
          ]
        },
        {
          "output_type": "stream",
          "name": "stdout",
          "text": [
            "\n",
            "                                                                               \n",
            "\n",
            "\n",
            "                                                     Computing the pearson_baseline similarity matrix...\n",
            " 33%|███▎      | 1/3 [00:01<00:02,  1.13s/trial, best loss: 0.7202864428752516]\n",
            " 33%|███▎      | 1/3 [00:01<00:02,  1.06s/trial, best loss: 0.7203618001780491]\n",
            "                                                                               Estimating biases using\n",
            " 33%|███▎      | 1/3 [00:01<00:02,  1.06s/trial, best loss: 0.7203618001780491]\n",
            "                                                                               Estimating biases usingDone computing similarity matrix.Done computing similarity matrix.                  Fold 1  Fold 2  Fold 3  Fold 4  Fold 5  Mean    Std     \n",
            "RMSE (testset)    0.7433  0.8077  0.8305  0.5679  0.6520  0.7203  0.0982  \n",
            "MAE (testset)     0.5900  0.6748  0.6397  0.3739  0.4575  0.5472  0.1138  \n",
            "MSE (testset)     0.5525  0.6525  0.6897  0.3225  0.4252  0.5285  0.1379  \n",
            "Fit time          0.37    0.35    0.30    0.29    0.27    0.32    0.04    \n",
            "\n",
            "\n",
            "sgd...\n",
            "\n",
            " 33%|███▎      | 1/3 [00:01<00:02,  1.06s/trial, best loss: 0.7203618001780491]\n",
            "                                                                               "
          ]
        },
        {
          "output_type": "stream",
          "name": "stderr",
          "text": [
            "INFO:auto_surprise.context.result_logging_manager_knn_baseline:Execution time: 0:00:01 Loss: 0.7203047265652756 Hyperparameters: {'bsl_options': {'method': 'als', 'n_epochs': 36, 'reg_i': 46.84762760104414, 'reg_u': 27.762092892137385}, 'k': 291, 'min_k': 24, 'sim_options': {'name': 'msd', 'user_based': True, 'min_support': 21}}\n"
          ]
        },
        {
          "output_type": "stream",
          "name": "stdout",
          "text": [
            "\n",
            "als...\n",
            " 33%|███▎      | 1/3 [00:01<00:02,  1.06s/trial, best loss: 0.7203618001780491]\n",
            "\n",
            "Computing the pearson_baseline similarity matrix...\n",
            "als...Estimating biases using\n",
            " 33%|███▎      | 1/3 [00:01<00:02,  1.13s/trial, best loss: 0.7202864428752516]\n",
            "                                                                               \n",
            "\n",
            "\n",
            "\n",
            "\n",
            " 33%|███▎      | 1/3 [00:02<00:02,  1.11s/trial, best loss: 0.7203618001780491]\n",
            " 33%|███▎      | 1/3 [00:01<00:02,  1.06s/trial, best loss: 0.7203618001780491]\n",
            "\n",
            "Computing the pearson_baseline similarity matrix...\n",
            " 33%|███▎      | 1/3 [00:02<00:02,  1.11s/trial, best loss: 0.7203618001780491]\n",
            "\n",
            "\n",
            " 33%|███▎      | 1/3 [00:01<00:02,  1.13s/trial, best loss: 0.7202864428752516]Estimating biases usingDone computing similarity matrix.\n",
            "                                                                               \n",
            "\n",
            "\n",
            " 33%|███▎      | 1/3 [00:02<00:03,  1.79s/trial, best loss: 0.7203047265652756]\n",
            " 33%|███▎      | 1/3 [00:01<00:02,  1.13s/trial, best loss: 0.7202864428752516]als...\n",
            "                                                                               \n",
            "                                                                               \n",
            "                  Fold 1  Fold 2  Fold 3  Fold 4  Fold 5  Mean    Std     \n",
            "RMSE (testset)    0.8237  0.6998  0.6485  0.6727  0.7426  0.7175  0.0616  \n",
            "MAE (testset)     0.6312  0.5385  0.4669  0.5050  0.5950  0.5473  0.0594  \n",
            "MSE (testset)     0.6784  0.4897  0.4206  0.4525  0.5514  0.5185  0.0910  \n",
            "Fit time          0.13    0.14    0.12    0.12    0.18    0.14    0.02    \n",
            "\n",
            "\n",
            "Computing the pearson_baseline similarity matrix...\n",
            "                                                                               "
          ]
        },
        {
          "output_type": "stream",
          "name": "stderr",
          "text": [
            "INFO:auto_surprise.context.result_logging_manager_baseline_only:Execution time: 0:00:02 Loss: 0.7174514105494847 Hyperparameters: {'bsl_options': {'learning_rate': 0.022602278352796296, 'method': 'sgd', 'reg': 0.008643789019271377}}\n"
          ]
        },
        {
          "output_type": "stream",
          "name": "stdout",
          "text": [
            " 33%|███▎      | 1/3 [00:02<00:02,  1.06s/trial, best loss: 0.7203618001780491]\n",
            "\n",
            "\n",
            "                                                                               Done computing similarity matrix.\n",
            "Estimating biases using\n",
            " 33%|███▎      | 1/3 [00:02<00:02,  1.06s/trial, best loss: 0.7203618001780491]\n",
            "                                                                               \n",
            " 33%|███▎      | 1/3 [00:02<00:02,  1.11s/trial, best loss: 0.7203618001780491]\n",
            "                                                                               Estimating biases usingsgd...\n",
            "\n",
            "\n",
            "                                                                               als...\n",
            " 33%|███▎      | 1/3 [00:02<00:03,  1.79s/trial, best loss: 0.7203047265652756]\n",
            " 33%|███▎      | 1/3 [00:02<00:02,  1.11s/trial, best loss: 0.7203618001780491]\n",
            "                                                                               \n",
            "\n",
            "\n",
            " 33%|███▎      | 1/3 [00:02<00:02,  1.11s/trial, best loss: 0.7203618001780491]Computing the pearson_baseline similarity matrix...\n",
            "\n",
            " 33%|███▎      | 1/3 [00:02<00:03,  1.79s/trial, best loss: 0.7203047265652756]\n",
            "\n",
            " 33%|███▎      | 1/3 [00:02<00:02,  1.06s/trial, best loss: 0.7203618001780491]Done computing similarity matrix.\n",
            "Done computing similarity matrix.\n",
            "                                                                               \n",
            "Estimating biases usingComputing the pearson_baseline similarity matrix...\n",
            "Evaluating RMSE, MAE, MSE of algorithm KNNWithZScore on 5 split(s).\n",
            "\n",
            "\n",
            "                                                                               \n",
            "\n",
            "                  Fold 1  Fold 2  Fold 3  Fold 4  Fold 5  Mean    Std     \n",
            "RMSE (testset)    0.8220  0.7000  0.6501  0.6727  0.7426  0.7175  0.0607  \n",
            "MAE (testset)     0.6225  0.5400  0.4688  0.5050  0.5950  0.5463  0.0565  \n",
            "MSE (testset)     0.6756  0.4900  0.4227  0.4525  0.5514  0.5184  0.0896  \n",
            "Fit time          0.33    0.28    0.27    0.29    0.23    0.28    0.03    \n",
            "                                                                               \n",
            "\n",
            "                  Fold 1  Fold 2  Fold 3  Fold 4  Fold 5  Mean    Std     \n",
            "RMSE (testset)    0.8220  0.7000  0.6501  0.6727  0.7426  0.7175  0.0607  \n",
            "MAE (testset)     0.6225  0.5400  0.4688  0.5050  0.5950  0.5463  0.0565  \n",
            "MSE (testset)     0.6756  0.4900  0.4227  0.4525  0.5514  0.5184  0.0896  \n",
            "Fit time          0.28    0.31    0.29    0.29    0.30    0.29    0.01    \n",
            " 67%|██████▋   | 2/3 [00:02<00:00,  1.02trial/s, best loss: 0.7174514105494847]\n",
            "\n",
            "                                                                               "
          ]
        },
        {
          "output_type": "stream",
          "name": "stderr",
          "text": [
            "INFO:auto_surprise.context.result_logging_manager_knn_with_z_score:Execution time: 0:00:02 Loss: 0.7174665663407229 Hyperparameters: {'k': 254, 'min_k': 15, 'sim_options': {'name': 'pearson_baseline', 'user_based': True, 'min_support': 41, 'shrinkage': 194}}\n"
          ]
        },
        {
          "output_type": "stream",
          "name": "stdout",
          "text": []
        },
        {
          "output_type": "stream",
          "name": "stderr",
          "text": [
            "INFO:auto_surprise.context.result_logging_manager_knn_basic:Execution time: 0:00:02 Loss: 0.7174665663407229 Hyperparameters: {'k': 254, 'min_k': 15, 'sim_options': {'name': 'pearson_baseline', 'user_based': True, 'min_support': 41, 'shrinkage': 194}}\n"
          ]
        },
        {
          "output_type": "stream",
          "name": "stdout",
          "text": [
            "\n",
            "                  Fold 1  Fold 2  Fold 3  Fold 4  Fold 5  Mean    Std     \n",
            "RMSE (testset)    0.8220  0.7000  0.6501  0.6727  0.7426  0.7175  0.0607  \n",
            "MAE (testset)     0.6225  0.5400  0.4688  0.5050  0.5950  0.5463  0.0565  \n",
            "MSE (testset)     0.6756  0.4900  0.4227  0.4525  0.5514  0.5184  0.0896  \n",
            "Fit time          0.28    0.32    0.29    0.27    0.28    0.29    0.02    \n",
            " 67%|██████▋   | 2/3 [00:02<00:01,  1.44s/trial, best loss: 0.7174665663407229]\n",
            " 33%|███▎      | 1/3 [00:02<00:03,  1.79s/trial, best loss: 0.7203047265652756]\n",
            "                                                                               "
          ]
        },
        {
          "output_type": "stream",
          "name": "stderr",
          "text": [
            "INFO:auto_surprise.context.result_logging_manager_knn_with_means:Execution time: 0:00:02 Loss: 0.7174665663407229 Hyperparameters: {'k': 254, 'min_k': 15, 'sim_options': {'name': 'pearson_baseline', 'user_based': True, 'min_support': 41, 'shrinkage': 194}}\n"
          ]
        },
        {
          "output_type": "stream",
          "name": "stdout",
          "text": [
            " 67%|██████▋   | 2/3 [00:02<00:01,  1.41s/trial, best loss: 0.7174665663407229]\n",
            " 67%|██████▋   | 2/3 [00:02<00:01,  1.35s/trial, best loss: 0.7174665663407229]Computing the msd similarity matrix...\n",
            "\n",
            "\n",
            "Done computing similarity matrix.Computing the pearson_baseline similarity matrix...Computing the msd similarity matrix...Estimating biases using\n",
            "\n",
            "\n",
            " 67%|██████▋   | 2/3 [00:02<00:01,  1.44s/trial, best loss: 0.7174665663407229]Done computing similarity matrix.\n",
            " 33%|███▎      | 1/3 [00:02<00:03,  1.79s/trial, best loss: 0.7203047265652756]\n",
            "Done computing similarity matrix.Done computing similarity matrix.\n",
            " 67%|██████▋   | 2/3 [00:02<00:01,  1.41s/trial, best loss: 0.7174665663407229]\n",
            "sgd...\n",
            "                                                                               \n",
            "\n",
            " 67%|██████▋   | 2/3 [00:02<00:01,  1.35s/trial, best loss: 0.7174665663407229]\n",
            "                                                                               Estimating biases using\n",
            "\n",
            "                                                                               \n",
            "\n",
            "Computing the msd similarity matrix...sgd...\n",
            "\n",
            "                  Fold 1  Fold 2  Fold 3  Fold 4  Fold 5  Mean    Std     \n",
            "RMSE (testset)    0.7681  0.5680  0.7432  0.6999  0.7946  0.7148  0.0797  \n",
            "MAE (testset)     0.6300  0.3750  0.5899  0.5394  0.5850  0.5438  0.0892  \n",
            "MSE (testset)     0.5900  0.3227  0.5523  0.4899  0.6314  0.5172  0.1079  \n",
            "Fit time          0.15    0.13    0.13    0.15    0.14    0.14    0.01    \n",
            " 67%|██████▋   | 2/3 [00:03<00:01,  1.41s/trial, best loss: 0.7174665663407229]\n",
            "\n",
            " 67%|██████▋   | 2/3 [00:02<00:00,  1.02trial/s, best loss: 0.7174514105494847]\n",
            " 67%|██████▋   | 2/3 [00:03<00:01,  1.35s/trial, best loss: 0.7174665663407229]"
          ]
        },
        {
          "output_type": "stream",
          "name": "stderr",
          "text": [
            "INFO:auto_surprise.context.result_logging_manager_baseline_only:Execution time: 0:00:02 Loss: 0.7147680661046959 Hyperparameters: {'bsl_options': {'learning_rate': 0.0004889198888625142, 'method': 'sgd', 'reg': 0.0012017557354363458}}\n"
          ]
        },
        {
          "output_type": "stream",
          "name": "stdout",
          "text": [
            "                                                                               Computing the msd similarity matrix...Done computing similarity matrix.\n",
            "100%|██████████| 3/3 [00:02<00:00,  1.05trial/s, best loss: 0.7147680661046959]Done computing similarity matrix.\n",
            " 67%|██████▋   | 2/3 [00:03<00:01,  1.44s/trial, best loss: 0.7174665663407229]\n",
            "\n",
            "\n",
            "                                                                               "
          ]
        },
        {
          "output_type": "stream",
          "name": "stderr",
          "text": [
            "INFO:auto_surprise.context.result_logging_manager_baseline_only:Done!\n"
          ]
        },
        {
          "output_type": "stream",
          "name": "stdout",
          "text": [
            "\n",
            " 67%|██████▋   | 2/3 [00:03<00:01,  1.41s/trial, best loss: 0.7174665663407229]Done computing similarity matrix.Computing the msd similarity matrix...\n",
            "\n",
            "\n",
            "Evaluating RMSE, MAE, MSE of algorithm KNNBaseline on 5 split(s).Done computing similarity matrix.\n",
            "Done computing similarity matrix.\n",
            " 67%|██████▋   | 2/3 [00:03<00:01,  1.41s/trial, best loss: 0.7174665663407229]\n",
            "\n",
            "                                                                               Done computing similarity matrix.                  Fold 1  Fold 2  Fold 3  Fold 4  Fold 5  Mean    Std     \n",
            "RMSE (testset)    0.8219  0.7000  0.6501  0.6727  0.7426  0.7175  0.0607  \n",
            "MAE (testset)     0.6223  0.5400  0.4687  0.5050  0.5950  0.5462  0.0564  \n",
            "MSE (testset)     0.6756  0.4900  0.4226  0.4525  0.5514  0.5184  0.0896  \n",
            "Fit time          0.28    0.29    0.23    0.32    0.30    0.28    0.03    \n",
            "\n",
            "\n",
            "\n",
            " 67%|██████▋   | 2/3 [00:03<00:01,  1.35s/trial, best loss: 0.7174665663407229]\n",
            " 67%|██████▋   | 2/3 [00:03<00:01,  1.44s/trial, best loss: 0.7174665663407229]"
          ]
        },
        {
          "output_type": "stream",
          "name": "stderr",
          "text": [
            "INFO:auto_surprise.context.result_logging_manager_knn_baseline:Execution time: 0:00:03 Loss: 0.7174566992231839 Hyperparameters: {'bsl_options': {'learning_rate': 0.00022804796228702062, 'method': 'sgd', 'reg': 0.001619138880768303}, 'k': 360, 'min_k': 26, 'sim_options': {'name': 'pearson_baseline', 'user_based': True, 'min_support': 54, 'shrinkage': 194}}\n"
          ]
        },
        {
          "output_type": "stream",
          "name": "stdout",
          "text": [
            "Done computing similarity matrix.Computing the msd similarity matrix...\n",
            " 67%|██████▋   | 2/3 [00:03<00:01,  1.35s/trial, best loss: 0.7174665663407229]\n",
            "\n",
            " 67%|██████▋   | 2/3 [00:03<00:01,  1.41s/trial, best loss: 0.7174665663407229]Estimating biases using\n",
            "Done computing similarity matrix.Evaluating RMSE, MAE, MSE of algorithm KNNBasic on 5 split(s).\n",
            "Evaluating RMSE, MAE, MSE of algorithm KNNWithZScore on 5 split(s).\n",
            " 67%|██████▋   | 2/3 [00:03<00:01,  1.41s/trial, best loss: 0.7174665663407229]\n",
            "                                                                               \n"
          ]
        },
        {
          "output_type": "stream",
          "name": "stderr",
          "text": [
            "ERROR:hyperopt.fmin:job exception: float division\n"
          ]
        },
        {
          "output_type": "stream",
          "name": "stdout",
          "text": [
            "                  Fold 1  Fold 2  Fold 3  Fold 4  Fold 5  Mean    Std     \n",
            "RMSE (testset)    0.7681  0.5680  0.7433  0.7000  0.7946  0.7148  0.0797  \n",
            "MAE (testset)     0.6300  0.3750  0.5900  0.5400  0.5850  0.5440  0.0892  \n",
            "MSE (testset)     0.5900  0.3227  0.5525  0.4900  0.6314  0.5173  0.1079  \n",
            "Fit time          0.14    0.16    0.14    0.17    0.14    0.15    0.01    \n",
            " 67%|██████▋   | 2/3 [00:03<00:01,  1.70s/trial, best loss: 0.7174566992231839]\n",
            "\n",
            "\n",
            " 67%|██████▋   | 2/3 [00:03<00:01,  1.44s/trial, best loss: 0.7174665663407229]"
          ]
        },
        {
          "output_type": "stream",
          "name": "stderr",
          "text": [
            "ERROR:auto_surprise.trainer:Exception for algo nmf\n"
          ]
        },
        {
          "output_type": "stream",
          "name": "stdout",
          "text": [
            "\r                                                                               "
          ]
        },
        {
          "output_type": "stream",
          "name": "stderr",
          "text": [
            "INFO:auto_surprise.context.result_logging_manager_knn_basic:Execution time: 0:00:03 Loss: 0.7148114308587031 Hyperparameters: {'k': 128, 'min_k': 40, 'sim_options': {'name': 'msd', 'user_based': True, 'min_support': 91}}\n",
            "ERROR:auto_surprise.trainer:Traceback (most recent call last):\n",
            "  File \"/usr/local/lib/python3.9/dist-packages/auto_surprise/trainer.py\", line 85, in start_with_limits\n",
            "    _, best_trial = self.algo_base.best_hyperparams(max_evals)\n",
            "  File \"/usr/local/lib/python3.9/dist-packages/auto_surprise/algorithms/base.py\", line 99, in best_hyperparams\n",
            "    best = fmin(**fmin_args)\n",
            "  File \"/usr/local/lib/python3.9/dist-packages/hyperopt/fmin.py\", line 507, in fmin\n",
            "    return trials.fmin(\n",
            "  File \"/usr/local/lib/python3.9/dist-packages/hyperopt/base.py\", line 682, in fmin\n",
            "    return fmin(\n",
            "  File \"/usr/local/lib/python3.9/dist-packages/hyperopt/fmin.py\", line 553, in fmin\n",
            "    rval.exhaust()\n",
            "  File \"/usr/local/lib/python3.9/dist-packages/hyperopt/fmin.py\", line 356, in exhaust\n",
            "    self.run(self.max_evals - n_done, block_until_done=self.asynchronous)\n",
            "  File \"/usr/local/lib/python3.9/dist-packages/hyperopt/fmin.py\", line 292, in run\n",
            "    self.serial_evaluate()\n",
            "  File \"/usr/local/lib/python3.9/dist-packages/hyperopt/fmin.py\", line 170, in serial_evaluate\n",
            "    result = self.domain.evaluate(spec, ctrl)\n",
            "  File \"/usr/local/lib/python3.9/dist-packages/hyperopt/base.py\", line 907, in evaluate\n",
            "    rval = self.fn(pyll_rval)\n",
            "  File \"/usr/local/lib/python3.9/dist-packages/auto_surprise/algorithms/base.py\", line 63, in objective\n",
            "    loss = cross_validate(\n",
            "  File \"/usr/local/lib/python3.9/dist-packages/surprise/model_selection/validation.py\", line 108, in cross_validate\n",
            "    out = Parallel(n_jobs=n_jobs, pre_dispatch=pre_dispatch)(delayed_list)\n",
            "  File \"/usr/local/lib/python3.9/dist-packages/joblib/parallel.py\", line 1048, in __call__\n",
            "    if self.dispatch_one_batch(iterator):\n",
            "  File \"/usr/local/lib/python3.9/dist-packages/joblib/parallel.py\", line 864, in dispatch_one_batch\n",
            "    self._dispatch(tasks)\n",
            "  File \"/usr/local/lib/python3.9/dist-packages/joblib/parallel.py\", line 782, in _dispatch\n",
            "    job = self._backend.apply_async(batch, callback=cb)\n",
            "  File \"/usr/local/lib/python3.9/dist-packages/joblib/_parallel_backends.py\", line 208, in apply_async\n",
            "    result = ImmediateResult(func)\n",
            "  File \"/usr/local/lib/python3.9/dist-packages/joblib/_parallel_backends.py\", line 572, in __init__\n",
            "    self.results = batch()\n",
            "  File \"/usr/local/lib/python3.9/dist-packages/joblib/parallel.py\", line 263, in __call__\n",
            "    return [func(*args, **kwargs)\n",
            "  File \"/usr/local/lib/python3.9/dist-packages/joblib/parallel.py\", line 263, in <listcomp>\n",
            "    return [func(*args, **kwargs)\n",
            "  File \"/usr/local/lib/python3.9/dist-packages/surprise/model_selection/validation.py\", line 173, in fit_and_score\n",
            "    algo.fit(trainset)\n",
            "  File \"surprise/prediction_algorithms/matrix_factorization.pyx\", line 658, in surprise.prediction_algorithms.matrix_factorization.NMF.fit\n",
            "  File \"surprise/prediction_algorithms/matrix_factorization.pyx\", line 735, in surprise.prediction_algorithms.matrix_factorization.NMF.sgd\n",
            "ZeroDivisionError: float division\n",
            "\n"
          ]
        },
        {
          "output_type": "stream",
          "name": "stdout",
          "text": [
            "                                                                                                 Fold 1  Fold 2  Fold 3  Fold 4  Fold 5  Mean    Std     \n",
            "RMSE (testset)    0.7681  0.5680  0.7433  0.7000  0.7946  0.7148  0.0797  \n",
            "MAE (testset)     0.6300  0.3750  0.5900  0.5400  0.5850  0.5440  0.0892  \n",
            "MSE (testset)     0.5900  0.3227  0.5525  0.4900  0.6314  0.5173  0.1079  \n",
            "Fit time          0.20    0.16    0.13    0.13    0.15    0.15    0.03    \n"
          ]
        },
        {
          "output_type": "stream",
          "name": "stderr",
          "text": [
            "INFO:auto_surprise.context.result_logging_manager_nmf:Done!\n"
          ]
        },
        {
          "output_type": "stream",
          "name": "stdout",
          "text": [
            "\n",
            "Computing the msd similarity matrix...\n",
            " 67%|██████▋   | 2/3 [00:03<00:01,  1.70s/trial, best loss: 0.7174566992231839]\n"
          ]
        },
        {
          "output_type": "stream",
          "name": "stderr",
          "text": [
            "INFO:auto_surprise.context.result_logging_manager_knn_with_z_score:Execution time: 0:00:03 Loss: 0.7148114308587031 Hyperparameters: {'k': 128, 'min_k': 40, 'sim_options': {'name': 'msd', 'user_based': True, 'min_support': 91}}\n"
          ]
        },
        {
          "output_type": "stream",
          "name": "stdout",
          "text": [
            "                  Fold 1  Fold 2  Fold 3  Fold 4  Fold 5  Mean    Std     \n",
            "RMSE (testset)    0.7681  0.5680  0.7433  0.7000  0.7946  0.7148  0.0797  \n",
            "MAE (testset)     0.6300  0.3750  0.5900  0.5400  0.5850  0.5440  0.0892  \n",
            "MSE (testset)     0.5900  0.3227  0.5525  0.4900  0.6314  0.5173  0.1079  \n",
            "Fit time          0.15    0.16    0.15    0.17    0.14    0.15    0.01    \n",
            "100%|██████████| 3/3 [00:03<00:00,  1.20s/trial, best loss: 0.7148114308587031]"
          ]
        },
        {
          "output_type": "stream",
          "name": "stderr",
          "text": [
            "INFO:auto_surprise.context.result_logging_manager_knn_basic:Done!\n"
          ]
        },
        {
          "output_type": "stream",
          "name": "stdout",
          "text": [
            "\n",
            " 67%|██████▋   | 2/3 [00:03<00:01,  1.41s/trial, best loss: 0.7174665663407229]\n",
            "Done computing similarity matrix."
          ]
        },
        {
          "output_type": "stream",
          "name": "stderr",
          "text": [
            "INFO:auto_surprise.context.result_logging_manager_knn_with_z_score:Done!\n",
            "INFO:auto_surprise.context.result_logging_manager_knn_with_means:Execution time: 0:00:03 Loss: 0.7148114308587031 Hyperparameters: {'k': 128, 'min_k': 40, 'sim_options': {'name': 'msd', 'user_based': True, 'min_support': 91}}\n"
          ]
        },
        {
          "output_type": "stream",
          "name": "stdout",
          "text": [
            "100%|██████████| 3/3 [00:03<00:00,  1.20s/trial, best loss: 0.7148114308587031]\n",
            " 67%|██████▋   | 2/3 [00:03<00:01,  1.70s/trial, best loss: 0.7174566992231839]\n"
          ]
        },
        {
          "output_type": "stream",
          "name": "stderr",
          "text": [
            "INFO:auto_surprise.context.result_logging_manager_knn_with_means:Done!\n"
          ]
        },
        {
          "output_type": "stream",
          "name": "stdout",
          "text": [
            "Estimating biases using\n",
            "sgd...\n",
            "Computing the msd similarity matrix...\n",
            "  0%|          | 0/3 [00:03<?, ?trial/s, best loss=?]\n",
            "Done computing similarity matrix.                  Fold 1  Fold 2  Fold 3  Fold 4  Fold 5  Mean    Std     \n",
            "RMSE (testset)    0.7433  0.8078  0.8307  0.5680  0.6520  0.7204  0.0982  \n",
            "MAE (testset)     0.5900  0.6750  0.6400  0.3750  0.4575  0.5475  0.1136  \n",
            "MSE (testset)     0.5525  0.6525  0.6900  0.3227  0.4252  0.5286  0.1379  \n",
            "Fit time          0.73    0.62    0.79    0.51    1.04    0.74    0.18    \n",
            "Test time         0.00    0.00    0.00    0.00    0.00    0.00    0.00    \n",
            "\n",
            "  0%|          | 0/3 [00:03<?, ?trial/s, best loss=?]"
          ]
        },
        {
          "output_type": "stream",
          "name": "stderr",
          "text": [
            "INFO:auto_surprise.context.result_logging_manager_co_clustering:Execution time: 0:00:03 Loss: 0.7203618001780491 Hyperparameters: {'n_cltr_i': 28, 'n_cltr_u': 358, 'n_epochs': 30}\n"
          ]
        },
        {
          "output_type": "stream",
          "name": "stdout",
          "text": [
            "Estimating biases using\n",
            "sgd...\n",
            "Computing the msd similarity matrix...\n",
            "Done computing similarity matrix.\n",
            "Estimating biases using\n",
            "sgd...\n",
            "Computing the msd similarity matrix...\n",
            "Done computing similarity matrix.\n",
            "Estimating biases using\n",
            "sgd...\n",
            "Computing the msd similarity matrix...\n",
            "Done computing similarity matrix.\n",
            "Evaluating RMSE, MAE, MSE of algorithm KNNBaseline on 5 split(s).\n",
            "                  Fold 1  Fold 2  Fold 3  Fold 4  Fold 5  Mean    Std     \n",
            "RMSE (testset)    0.7679  0.5680  0.7392  0.7017  0.7945  0.7143  0.0793  \n",
            "MAE (testset)     0.6284  0.3750  0.5852  0.5461  0.5836  0.5436  0.0883  \n",
            "MSE (testset)     0.5897  0.3227  0.5465  0.4924  0.6312  0.5165  0.1073  \n",
            "Fit time          0.29    0.15    0.16    0.17    0.16    0.18    0.05    \n",
            "Test time         0.00    0.00    0.00    0.00    0.00    0.00    0.00    \n",
            " 67%|██████▋   | 2/3 [00:04<00:01,  1.70s/trial, best loss: 0.7174566992231839]"
          ]
        },
        {
          "output_type": "stream",
          "name": "stderr",
          "text": [
            "INFO:auto_surprise.context.result_logging_manager_knn_baseline:Execution time: 0:00:04 Loss: 0.7142851599495119 Hyperparameters: {'bsl_options': {'learning_rate': 0.02559896781615794, 'method': 'sgd', 'reg': 0.053988150881382195}, 'k': 194, 'min_k': 41, 'sim_options': {'name': 'msd', 'user_based': True, 'min_support': 58}}\n"
          ]
        },
        {
          "output_type": "stream",
          "name": "stdout",
          "text": [
            "100%|██████████| 3/3 [00:04<00:00,  1.49s/trial, best loss: 0.7142851599495119]\n"
          ]
        },
        {
          "output_type": "stream",
          "name": "stderr",
          "text": [
            "INFO:auto_surprise.context.result_logging_manager_knn_baseline:Done!\n"
          ]
        },
        {
          "output_type": "stream",
          "name": "stdout",
          "text": [
            "Evaluating RMSE, MAE, MSE of algorithm CoClustering on 5 split(s).\n",
            "                  Fold 1  Fold 2  Fold 3  Fold 4  Fold 5  Mean    Std     \n",
            "RMSE (testset)    0.7247  0.7846  0.6169  0.7846  0.7609  0.7343  0.0627  \n",
            "MAE (testset)     0.5537  0.5750  0.4050  0.6500  0.6000  0.5567  0.0824  \n",
            "MSE (testset)     0.5252  0.6156  0.3806  0.6156  0.5789  0.5432  0.0878  \n",
            "Fit time          0.68    0.31    0.28    0.20    0.16    0.33    0.18    \n",
            "Test time         0.00    0.00    0.00    0.00    0.00    0.00    0.00    \n",
            " 33%|███▎      | 1/3 [00:05<00:07,  3.79s/trial, best loss: 0.7203618001780491]"
          ]
        },
        {
          "output_type": "stream",
          "name": "stderr",
          "text": [
            "INFO:auto_surprise.context.result_logging_manager_co_clustering:Execution time: 0:00:05 Loss: 0.7343438316637243 Hyperparameters: {'n_cltr_i': 36, 'n_cltr_u': 755, 'n_epochs': 31}\n"
          ]
        },
        {
          "output_type": "stream",
          "name": "stdout",
          "text": [
            "\r 67%|██████▋   | 2/3 [00:05<00:02,  2.55s/trial, best loss: 0.7203618001780491]"
          ]
        },
        {
          "output_type": "stream",
          "name": "stderr",
          "text": [
            "ERROR:hyperopt.fmin:job exception: This job has timed out. The results will still be used\n"
          ]
        },
        {
          "output_type": "stream",
          "name": "stdout",
          "text": [
            "\r 67%|██████▋   | 2/3 [00:09<00:04,  4.98s/trial, best loss: 0.7203618001780491]\n"
          ]
        },
        {
          "output_type": "stream",
          "name": "stderr",
          "text": [
            "INFO:auto_surprise.context.result_logging_manager_co_clustering:Done!\n"
          ]
        },
        {
          "output_type": "display_data",
          "data": {
            "text/plain": [
              "----Done!----\n"
            ],
            "text/html": [
              "<pre style=\"white-space:pre;overflow-x:auto;line-height:normal;font-family:Menlo,'DejaVu Sans Mono',consolas,'Courier New',monospace\">----Done!----\n",
              "</pre>\n"
            ]
          },
          "metadata": {}
        },
        {
          "output_type": "display_data",
          "data": {
            "text/plain": [
              "Best algorithm: svdpp\n"
            ],
            "text/html": [
              "<pre style=\"white-space:pre;overflow-x:auto;line-height:normal;font-family:Menlo,'DejaVu Sans Mono',consolas,'Courier New',monospace\">Best algorithm: svdpp\n",
              "</pre>\n"
            ]
          },
          "metadata": {}
        },
        {
          "output_type": "display_data",
          "data": {
            "text/plain": [
              "Best hyperparameters: \u001b[1m{\u001b[0m\u001b[32m'lr_bi'\u001b[0m: \u001b[1;36m0.008773887533329429\u001b[0m, \u001b[32m'lr_bu'\u001b[0m: \u001b[1;36m0.00036064764947939926\u001b[0m, \u001b[32m'lr_pu'\u001b[0m: \n",
              "\u001b[1;36m0.00015964337232868072\u001b[0m, \u001b[32m'lr_qi'\u001b[0m: \u001b[1;36m0.06528573358801112\u001b[0m, \u001b[32m'lr_yj'\u001b[0m: \u001b[1;36m0.002101657138207708\u001b[0m, \u001b[32m'n_epochs'\u001b[0m: \u001b[1;36m105\u001b[0m, \u001b[32m'n_factors'\u001b[0m: \n",
              "\u001b[1;36m116\u001b[0m, \u001b[32m'reg_bi'\u001b[0m: \u001b[1;36m0.0004194558860427127\u001b[0m, \u001b[32m'reg_bu'\u001b[0m: \u001b[1;36m0.01008406919535432\u001b[0m, \u001b[32m'reg_pu'\u001b[0m: \u001b[1;36m0.00014195664816132758\u001b[0m, \u001b[32m'reg_qi'\u001b[0m: \n",
              "\u001b[1;36m0.009895310350766537\u001b[0m, \u001b[32m'reg_yj'\u001b[0m: \u001b[1;36m0.011630071015933642\u001b[0m\u001b[1m}\u001b[0m\n"
            ],
            "text/html": [
              "<pre style=\"white-space:pre;overflow-x:auto;line-height:normal;font-family:Menlo,'DejaVu Sans Mono',consolas,'Courier New',monospace\">Best hyperparameters: <span style=\"font-weight: bold\">{</span><span style=\"color: #008000; text-decoration-color: #008000\">'lr_bi'</span>: <span style=\"color: #008080; text-decoration-color: #008080; font-weight: bold\">0.008773887533329429</span>, <span style=\"color: #008000; text-decoration-color: #008000\">'lr_bu'</span>: <span style=\"color: #008080; text-decoration-color: #008080; font-weight: bold\">0.00036064764947939926</span>, <span style=\"color: #008000; text-decoration-color: #008000\">'lr_pu'</span>: \n",
              "<span style=\"color: #008080; text-decoration-color: #008080; font-weight: bold\">0.00015964337232868072</span>, <span style=\"color: #008000; text-decoration-color: #008000\">'lr_qi'</span>: <span style=\"color: #008080; text-decoration-color: #008080; font-weight: bold\">0.06528573358801112</span>, <span style=\"color: #008000; text-decoration-color: #008000\">'lr_yj'</span>: <span style=\"color: #008080; text-decoration-color: #008080; font-weight: bold\">0.002101657138207708</span>, <span style=\"color: #008000; text-decoration-color: #008000\">'n_epochs'</span>: <span style=\"color: #008080; text-decoration-color: #008080; font-weight: bold\">105</span>, <span style=\"color: #008000; text-decoration-color: #008000\">'n_factors'</span>: \n",
              "<span style=\"color: #008080; text-decoration-color: #008080; font-weight: bold\">116</span>, <span style=\"color: #008000; text-decoration-color: #008000\">'reg_bi'</span>: <span style=\"color: #008080; text-decoration-color: #008080; font-weight: bold\">0.0004194558860427127</span>, <span style=\"color: #008000; text-decoration-color: #008000\">'reg_bu'</span>: <span style=\"color: #008080; text-decoration-color: #008080; font-weight: bold\">0.01008406919535432</span>, <span style=\"color: #008000; text-decoration-color: #008000\">'reg_pu'</span>: <span style=\"color: #008080; text-decoration-color: #008080; font-weight: bold\">0.00014195664816132758</span>, <span style=\"color: #008000; text-decoration-color: #008000\">'reg_qi'</span>: \n",
              "<span style=\"color: #008080; text-decoration-color: #008080; font-weight: bold\">0.009895310350766537</span>, <span style=\"color: #008000; text-decoration-color: #008000\">'reg_yj'</span>: <span style=\"color: #008080; text-decoration-color: #008080; font-weight: bold\">0.011630071015933642</span><span style=\"font-weight: bold\">}</span>\n",
              "</pre>\n"
            ]
          },
          "metadata": {}
        },
        {
          "output_type": "display_data",
          "data": {
            "text/plain": [
              "┏━━━━━━━━━━━━━━━━━━┳━━━━━━━━━━━━━━━━━━━━━━━━━━━━━━━━━━━━━━━━━━━━━━━━━━━━━━━━━━━━━━━━━━━━━━━━━┳━━━━━━━━━━━━━━━━━━━━┓\n",
              "┃\u001b[1;35m \u001b[0m\u001b[1;35mAlgorithm       \u001b[0m\u001b[1;35m \u001b[0m┃\u001b[1;35m \u001b[0m\u001b[1;35mHyperparameters                                                        \u001b[0m\u001b[1;35m \u001b[0m┃\u001b[1;35m \u001b[0m\u001b[1;35m              Loss\u001b[0m\u001b[1;35m \u001b[0m┃\n",
              "┡━━━━━━━━━━━━━━━━━━╇━━━━━━━━━━━━━━━━━━━━━━━━━━━━━━━━━━━━━━━━━━━━━━━━━━━━━━━━━━━━━━━━━━━━━━━━━╇━━━━━━━━━━━━━━━━━━━━┩\n",
              "│ slope_one        │ None                                                                    │ 0.7203618001780491 │\n",
              "│ svd              │ {'lr_bi': 0.0042178867475883165, 'lr_bu': 0.00045720386454149524,       │ 0.7100424406414808 │\n",
              "│                  │ 'lr_pu': 0.01544828065316396, 'lr_qi': 0.00029308721158844445,          │                    │\n",
              "│                  │ 'n_epochs': 113, 'n_factors': 78, 'reg_bi': 0.008457901083055667,       │                    │\n",
              "│                  │ 'reg_bu': 0.004687329742290523, 'reg_pu': 0.0026026135390510045,        │                    │\n",
              "│                  │ 'reg_qi': 0.0015595439072885087}                                        │                    │\n",
              "│ svdpp            │ {'lr_bi': 0.008773887533329429, 'lr_bu': 0.00036064764947939926,        │ 0.7064088225076045 │\n",
              "│                  │ 'lr_pu': 0.00015964337232868072, 'lr_qi': 0.06528573358801112, 'lr_yj': │                    │\n",
              "│                  │ 0.002101657138207708, 'n_epochs': 105, 'n_factors': 116, 'reg_bi':      │                    │\n",
              "│                  │ 0.0004194558860427127, 'reg_bu': 0.01008406919535432, 'reg_pu':         │                    │\n",
              "│                  │ 0.00014195664816132758, 'reg_qi': 0.009895310350766537, 'reg_yj':       │                    │\n",
              "│                  │ 0.011630071015933642}                                                   │                    │\n",
              "│ baseline_only    │ {'bsl_options': {'learning_rate': 0.0004889198888625142, 'method':      │ 0.7147680661046959 │\n",
              "│                  │ 'sgd', 'reg': 0.0012017557354363458}}                                   │                    │\n",
              "│ nmf              │ None                                                                    │               None │\n",
              "│ knn_basic        │ {'k': 128, 'min_k': 40, 'sim_options': {'name': 'msd', 'user_based':    │ 0.7148114308587031 │\n",
              "│                  │ True, 'min_support': 91}}                                               │                    │\n",
              "│ knn_with_z_score │ {'k': 128, 'min_k': 40, 'sim_options': {'name': 'msd', 'user_based':    │ 0.7148114308587031 │\n",
              "│                  │ True, 'min_support': 91}}                                               │                    │\n",
              "│ knn_with_means   │ {'k': 128, 'min_k': 40, 'sim_options': {'name': 'msd', 'user_based':    │ 0.7148114308587031 │\n",
              "│                  │ True, 'min_support': 91}}                                               │                    │\n",
              "│ knn_baseline     │ {'bsl_options': {'learning_rate': 0.02559896781615794, 'method': 'sgd', │ 0.7142851599495119 │\n",
              "│                  │ 'reg': 0.053988150881382195}, 'k': 194, 'min_k': 41, 'sim_options':     │                    │\n",
              "│                  │ {'name': 'msd', 'user_based': True, 'min_support': 58}}                 │                    │\n",
              "│ co_clustering    │ {'n_cltr_i': 28, 'n_cltr_u': 358, 'n_epochs': 30}                       │ 0.7203618001780491 │\n",
              "└──────────────────┴─────────────────────────────────────────────────────────────────────────┴────────────────────┘\n"
            ],
            "text/html": [
              "<pre style=\"white-space:pre;overflow-x:auto;line-height:normal;font-family:Menlo,'DejaVu Sans Mono',consolas,'Courier New',monospace\">┏━━━━━━━━━━━━━━━━━━┳━━━━━━━━━━━━━━━━━━━━━━━━━━━━━━━━━━━━━━━━━━━━━━━━━━━━━━━━━━━━━━━━━━━━━━━━━┳━━━━━━━━━━━━━━━━━━━━┓\n",
              "┃<span style=\"color: #800080; text-decoration-color: #800080; font-weight: bold\"> Algorithm        </span>┃<span style=\"color: #800080; text-decoration-color: #800080; font-weight: bold\"> Hyperparameters                                                         </span>┃<span style=\"color: #800080; text-decoration-color: #800080; font-weight: bold\">               Loss </span>┃\n",
              "┡━━━━━━━━━━━━━━━━━━╇━━━━━━━━━━━━━━━━━━━━━━━━━━━━━━━━━━━━━━━━━━━━━━━━━━━━━━━━━━━━━━━━━━━━━━━━━╇━━━━━━━━━━━━━━━━━━━━┩\n",
              "│ slope_one        │ None                                                                    │ 0.7203618001780491 │\n",
              "│ svd              │ {'lr_bi': 0.0042178867475883165, 'lr_bu': 0.00045720386454149524,       │ 0.7100424406414808 │\n",
              "│                  │ 'lr_pu': 0.01544828065316396, 'lr_qi': 0.00029308721158844445,          │                    │\n",
              "│                  │ 'n_epochs': 113, 'n_factors': 78, 'reg_bi': 0.008457901083055667,       │                    │\n",
              "│                  │ 'reg_bu': 0.004687329742290523, 'reg_pu': 0.0026026135390510045,        │                    │\n",
              "│                  │ 'reg_qi': 0.0015595439072885087}                                        │                    │\n",
              "│ svdpp            │ {'lr_bi': 0.008773887533329429, 'lr_bu': 0.00036064764947939926,        │ 0.7064088225076045 │\n",
              "│                  │ 'lr_pu': 0.00015964337232868072, 'lr_qi': 0.06528573358801112, 'lr_yj': │                    │\n",
              "│                  │ 0.002101657138207708, 'n_epochs': 105, 'n_factors': 116, 'reg_bi':      │                    │\n",
              "│                  │ 0.0004194558860427127, 'reg_bu': 0.01008406919535432, 'reg_pu':         │                    │\n",
              "│                  │ 0.00014195664816132758, 'reg_qi': 0.009895310350766537, 'reg_yj':       │                    │\n",
              "│                  │ 0.011630071015933642}                                                   │                    │\n",
              "│ baseline_only    │ {'bsl_options': {'learning_rate': 0.0004889198888625142, 'method':      │ 0.7147680661046959 │\n",
              "│                  │ 'sgd', 'reg': 0.0012017557354363458}}                                   │                    │\n",
              "│ nmf              │ None                                                                    │               None │\n",
              "│ knn_basic        │ {'k': 128, 'min_k': 40, 'sim_options': {'name': 'msd', 'user_based':    │ 0.7148114308587031 │\n",
              "│                  │ True, 'min_support': 91}}                                               │                    │\n",
              "│ knn_with_z_score │ {'k': 128, 'min_k': 40, 'sim_options': {'name': 'msd', 'user_based':    │ 0.7148114308587031 │\n",
              "│                  │ True, 'min_support': 91}}                                               │                    │\n",
              "│ knn_with_means   │ {'k': 128, 'min_k': 40, 'sim_options': {'name': 'msd', 'user_based':    │ 0.7148114308587031 │\n",
              "│                  │ True, 'min_support': 91}}                                               │                    │\n",
              "│ knn_baseline     │ {'bsl_options': {'learning_rate': 0.02559896781615794, 'method': 'sgd', │ 0.7142851599495119 │\n",
              "│                  │ 'reg': 0.053988150881382195}, 'k': 194, 'min_k': 41, 'sim_options':     │                    │\n",
              "│                  │ {'name': 'msd', 'user_based': True, 'min_support': 58}}                 │                    │\n",
              "│ co_clustering    │ {'n_cltr_i': 28, 'n_cltr_u': 358, 'n_epochs': 30}                       │ 0.7203618001780491 │\n",
              "└──────────────────┴─────────────────────────────────────────────────────────────────────────┴────────────────────┘\n",
              "</pre>\n"
            ]
          },
          "metadata": {}
        }
      ]
    },
    {
      "cell_type": "code",
      "source": [],
      "metadata": {
        "id": "vmuyjnnYKUdf"
      },
      "execution_count": null,
      "outputs": []
    }
  ]
}